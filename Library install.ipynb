{
  "nbformat": 4,
  "nbformat_minor": 0,
  "metadata": {
    "colab": {
      "provenance": [],
      "collapsed_sections": [],
      "authorship_tag": "ABX9TyP6pIGix53i3xqbtgHn8bs/",
      "include_colab_link": true
    },
    "kernelspec": {
      "name": "python3",
      "display_name": "Python 3"
    },
    "language_info": {
      "name": "python"
    }
  },
  "cells": [
    {
      "cell_type": "markdown",
      "metadata": {
        "id": "view-in-github",
        "colab_type": "text"
      },
      "source": [
        "<a href=\"https://colab.research.google.com/github/niikhilpatel/Machine-Learning/blob/main/Library%20install.ipynb\" target=\"_parent\"><img src=\"https://colab.research.google.com/assets/colab-badge.svg\" alt=\"Open In Colab\"/></a>"
      ]
    },
    {
      "cell_type": "markdown",
      "source": [
        "#Commands for Machine Learning by Python"
      ],
      "metadata": {
        "id": "QAi1fp25N9qL"
      }
    },
    {
      "cell_type": "markdown",
      "source": [
        "##First install libriaries\n",
        "\n",
        "pip install scipy\n",
        "<br> pip install scikit-learn\n",
        "<br>  pip install ipython\n",
        "\n",
        "### To install Python Jupyter\n",
        "<br> pip  install \"ipython[notebook]\""
      ],
      "metadata": {
        "id": "bOEs7sWwOF5B"
      }
    }
  ]
}